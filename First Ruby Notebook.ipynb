{
 "cells": [
  {
   "cell_type": "markdown",
   "metadata": {},
   "source": [
    "# first ruby notebook\n",
    "\n",
    "Running a docker in a notebook was easy thanks to \n",
    "\n",
    "```sh\n",
    "\n",
    "docker pull kechako/jupyter-iruby\n",
    "\n",
    "docker run --name iruby -p 8888:8888 -v $PWD:/opt/notebooks kechako/jupyter-iruby\n",
    "```\n",
    "\n",
    "Simple example"
   ]
  },
  {
   "cell_type": "code",
   "execution_count": 7,
   "metadata": {
    "collapsed": false
   },
   "outputs": [
    {
     "name": "stdout",
     "output_type": "stream",
     "text": [
      "Hello sailor 0.9999996829318346\n"
     ]
    }
   ],
   "source": [
    "puts \"Hello sailor \" + Math.sin(3.14/2).to_s"
   ]
  },
  {
   "cell_type": "code",
   "execution_count": 8,
   "metadata": {
    "collapsed": false
   },
   "outputs": [
    {
     "name": "stdout",
     "output_type": "stream",
     "text": [
      "Hello World!\n",
      "Goodbye World.  Come back soon!\n",
      "Hello Zeke!\n",
      "Goodbye Zeke.  Come back soon!\n",
      "Hello Albert!\n",
      "Hello Brenda!\n",
      "Hello Charles!\n",
      "Hello Dave!\n",
      "Hello Engelbert!\n",
      "Goodbye Albert, Brenda, Charles, Dave, Engelbert.  Come back soon!\n",
      "...\n",
      "...\n"
     ]
    }
   ],
   "source": [
    "# Now for a simple class\n",
    "# From the https://www.ruby-lang.org/en/documentation/quickstart/3/\n",
    "\n",
    "class MegaGreeter\n",
    "  attr_accessor :names\n",
    "\n",
    "  # Create the object\n",
    "  def initialize(names = \"World\")\n",
    "    @names = names\n",
    "  end\n",
    "\n",
    "  # Say hi to everybody\n",
    "  def say_hi\n",
    "    if @names.nil?\n",
    "      puts \"...\"\n",
    "    elsif @names.respond_to?(\"each\")\n",
    "      # @names is a list of some kind, iterate!\n",
    "      @names.each do |name|\n",
    "        puts \"Hello #{name}!\"\n",
    "      end\n",
    "    else\n",
    "      puts \"Hello #{@names}!\"\n",
    "    end\n",
    "  end\n",
    "\n",
    "  # Say bye to everybody\n",
    "  def say_bye\n",
    "    if @names.nil?\n",
    "      puts \"...\"\n",
    "    elsif @names.respond_to?(\"join\")\n",
    "      # Join the list elements with commas\n",
    "      puts \"Goodbye #{@names.join(\", \")}.  Come back soon!\"\n",
    "    else\n",
    "      puts \"Goodbye #{@names}.  Come back soon!\"\n",
    "    end\n",
    "  end\n",
    "end\n",
    "\n",
    "mg = MegaGreeter.new\n",
    "mg.say_hi\n",
    "mg.say_bye\n",
    "\n",
    "# Change name to be \"Zeke\"\n",
    "mg.names = \"Zeke\"\n",
    "mg.say_hi\n",
    "mg.say_bye\n",
    "\n",
    "# Change the name to an array of names\n",
    "mg.names = [\"Albert\", \"Brenda\", \"Charles\",\n",
    "            \"Dave\", \"Engelbert\"]\n",
    "mg.say_hi\n",
    "mg.say_bye\n",
    "\n",
    "# Change to nil\n",
    "mg.names = nil\n",
    "mg.say_hi\n",
    "mg.say_bye\n"
   ]
  },
  {
   "cell_type": "code",
   "execution_count": null,
   "metadata": {
    "collapsed": true
   },
   "outputs": [],
   "source": []
  }
 ],
 "metadata": {
  "anaconda-cloud": {},
  "kernelspec": {
   "display_name": "Ruby 2.4.0",
   "language": "ruby",
   "name": "ruby"
  },
  "language_info": {
   "file_extension": ".rb",
   "mimetype": "application/x-ruby",
   "name": "ruby",
   "version": "2.4.0"
  }
 },
 "nbformat": 4,
 "nbformat_minor": 1
}
